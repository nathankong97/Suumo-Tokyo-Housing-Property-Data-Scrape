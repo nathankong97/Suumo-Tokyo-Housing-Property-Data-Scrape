{
 "cells": [
  {
   "cell_type": "code",
   "execution_count": null,
   "metadata": {},
   "outputs": [],
   "source": [
    "import requests, time\n",
    "import pandas as pd\n",
    "import re\n",
    "from bs4 import BeautifulSoup\n",
    "import lxml.html\n",
    "import random"
   ]
  },
  {
   "cell_type": "code",
   "execution_count": null,
   "metadata": {},
   "outputs": [],
   "source": [
    "url = \"https://suumo.jp/jj/bukken/ichiran/JJ012FC001/?ar=030&bs=011&cn=9999999&cnb=0&ekTjCd=&ekTjNm=&kb=1&kt=9999999&mb=0&mt=9999999&ta=13&tj=0&po=0&pj=1&pc=100&pn={}\"\n",
    "headers = {'User-Agent': 'Mozilla/5.0 (Macintosh; Intel Mac OS X 10_10_1) AppleWebKit/537.36 (KHTML, like Gecko) Chrome/39.0.2171.95 Safari/537.36'}"
   ]
  },
  {
   "cell_type": "code",
   "execution_count": null,
   "metadata": {},
   "outputs": [],
   "source": [
    "pg_list = [i for i in range(1, 226)]\n",
    "property_list = []\n",
    "regex = re.compile('.*property_unit.*')"
   ]
  },
  {
   "cell_type": "code",
   "execution_count": null,
   "metadata": {},
   "outputs": [],
   "source": [
    "for page_num in pg_list:\n",
    "    current_url = url.format(page_num)\n",
    "    r = requests.get(current_url, headers=headers)\n",
    "    \n",
    "    \n",
    "    soup = BeautifulSoup(r.content, \"html.parser\")\n",
    "    properties = soup.find(\"div\",{\"id\":\"js-bukkenList\"}).find_all(\"div\", {\"class\":\"property_unit\"})\n",
    "    more = soup.find(\"div\",{\"id\":\"js-bukkenList\"}).find_all(\"div\", {\"class\":\"property_unit property_unit--osusume\"})\n",
    "    properties = set(properties + more)\n",
    "    for prop in properties:\n",
    "        #print(prop)\n",
    "        name = prop.find_all(\"div\",{\"class\":\"dottable-line\"})[0].find(\"dd\").get_text()\n",
    "        price = prop.find_all(\"div\",{\"class\":\"dottable-line\"})[1].find(\"dd\").get_text()\n",
    "        address = prop.find_all(\"div\",{\"class\":\"dottable-line\"})[2].find_all(\"dl\")[0].find(\"dd\").get_text()\n",
    "        station = prop.find_all(\"div\",{\"class\":\"dottable-line\"})[2].find_all(\"dl\")[1].find(\"dd\").get_text()\n",
    "        size = prop.find_all(\"div\",{\"class\":\"dottable-line\"})[3].find_all(\"dd\")[0].get_text()\n",
    "        plan = prop.find_all(\"div\",{\"class\":\"dottable-line\"})[3].find_all(\"dd\")[1].get_text()\n",
    "        balcony = prop.find_all(\"div\",{\"class\":\"dottable-line\"})[4].find_all(\"dd\")[0].get_text()\n",
    "        built_year = prop.find_all(\"div\",{\"class\":\"dottable-line\"})[4].find_all(\"dd\")[1].get_text()\n",
    "        link = prop.find_all(\"h2\")[0].find(\"a\")[\"href\"]\n",
    "        property_list.append([name, price, address, station, size, plan, balcony, built_year, link])\n",
    "    time.sleep(2)"
   ]
  },
  {
   "cell_type": "code",
   "execution_count": null,
   "metadata": {},
   "outputs": [],
   "source": [
    "df = pd.DataFrame(property_list, columns = ['name', 'price', \"address\",\"station\",\"size\",\"plan\",\"balcony\",\"built_year\",\"link\"])"
   ]
  },
  {
   "cell_type": "code",
   "execution_count": null,
   "metadata": {},
   "outputs": [],
   "source": [
    "df.to_csv(\"tokyo_apartment_property_basic_data.csv\")"
   ]
  },
  {
   "cell_type": "code",
   "execution_count": null,
   "metadata": {},
   "outputs": [],
   "source": [
    "base_url = \"https://suumo.jp{}tokucho/?fmlg=t001\"\n",
    "url_list_detail_1 = [base_url.format(link) for link in list(df[\"link\"])]\n",
    "property_detail_list1 = []"
   ]
  },
  {
   "cell_type": "code",
   "execution_count": null,
   "metadata": {},
   "outputs": [],
   "source": [
    "for i, prop_url in enumerate(url_list_detail_1):\n",
    "    r = requests.get(prop_url, headers=headers)\n",
    "    soup = BeautifulSoup(r.content, \"html.parser\")\n",
    "    try:\n",
    "        detail = soup.findAll('h3', text = re.compile('特徴ピックアップ'))[0].parent.findNext(\"div\").get_text()\n",
    "    except:\n",
    "        detail = \"\"\n",
    "    try:\n",
    "        total_units = soup.find_all(\"table\", {\"summary\":\"表\"})[0].findAll('div', text = re.compile('総戸数'))[0].parent.findNext(\"td\").get_text()\n",
    "    except:\n",
    "        total_units = \"\"\n",
    "    try:\n",
    "        floor = soup.find_all(\"table\", {\"summary\":\"表\"})[0].findAll('div', text = re.compile('所在階/構造・階建'))[0].parent.findNext(\"td\").get_text()\n",
    "    except:\n",
    "        floor = \"\"\n",
    "    property_detail_list1.append([prop_url, detail, total_units, floor])\n",
    "    time.sleep(2)\n",
    "    print(i + 1)\n",
    "    if i > 150:\n",
    "        if i % 150 == 0:\n",
    "            time.sleep(60)"
   ]
  },
  {
   "cell_type": "code",
   "execution_count": null,
   "metadata": {},
   "outputs": [],
   "source": [
    "df_detail = pd.DataFrame(property_detail_list1, columns = [\"prop_url\", \"detail\", \"total_units\", \"floor\"])"
   ]
  },
  {
   "cell_type": "code",
   "execution_count": null,
   "metadata": {},
   "outputs": [],
   "source": [
    "df_detail.to_csv(\"tokyo_apartment_property_detail_data.csv\")"
   ]
  }
 ],
 "metadata": {
  "kernelspec": {
   "display_name": "Python 3",
   "language": "python",
   "name": "python3"
  },
  "language_info": {
   "codemirror_mode": {
    "name": "ipython",
    "version": 3
   },
   "file_extension": ".py",
   "mimetype": "text/x-python",
   "name": "python",
   "nbconvert_exporter": "python",
   "pygments_lexer": "ipython3",
   "version": "3.7.3"
  }
 },
 "nbformat": 4,
 "nbformat_minor": 2
}
